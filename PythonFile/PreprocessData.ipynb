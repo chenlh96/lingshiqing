{
 "cells": [
  {
   "cell_type": "markdown",
   "metadata": {},
   "source": [
    "# Preprocess Data"
   ]
  },
  {
   "cell_type": "code",
   "execution_count": 62,
   "metadata": {},
   "outputs": [],
   "source": [
    "import pandas as pd\n",
    "\n",
    "def process_data(filename):\n",
    "    filepath = \"../Underlying Data/\" + filename;\n",
    "    df = pd.read_csv(filepath, sep=',', header=0)\n",
    "    df.index = pd.to_datetime(df['Date'])\n",
    "    df = df[['Price']]\n",
    "    df.columns = [filename[:-28]]\n",
    "    return df\n",
    "\n",
    "import os\n",
    "\n",
    "path = \"../Underlying Data/\"\n",
    "\n",
    "files = []\n",
    "\n",
    "for r, d, f in os.walk(path):\n",
    "    for file in f:\n",
    "        if '.csv' in file:\n",
    "            files.append(file)\n",
    "\n",
    "dataList = []\n",
    "\n",
    "for file in files:\n",
    "    dataList.append(process_data(file))\n",
    "\n",
    "data = pd.concat(dataList, sort=True, axis = 1)\n",
    "\n",
    "data.to_csv('data.csv')"
   ]
  }
 ],
 "metadata": {
  "kernelspec": {
   "display_name": "Python 3",
   "language": "python",
   "name": "python3"
  },
  "language_info": {
   "codemirror_mode": {
    "name": "ipython",
    "version": 3
   },
   "file_extension": ".py",
   "mimetype": "text/x-python",
   "name": "python",
   "nbconvert_exporter": "python",
   "pygments_lexer": "ipython3",
   "version": "3.6.5"
  }
 },
 "nbformat": 4,
 "nbformat_minor": 2
}
